{
 "cells": [
  {
   "cell_type": "markdown",
   "id": "715ea6d5",
   "metadata": {},
   "source": [
    "# Data Science Tools and Ecosystem"
   ]
  },
  {
   "cell_type": "markdown",
   "id": "7b04d3b7",
   "metadata": {},
   "source": [
    "In this notebook, Data Science Tools and Ecosystem are summarized."
   ]
  },
  {
   "cell_type": "markdown",
   "id": "e9712fcf",
   "metadata": {},
   "source": [
    "**Objectives:**\n",
    "* Tools used in Data science\n",
    "* Libraries used in Data science\n",
    "* Language used in Data science\n",
    "* Arithmatic expressions in Python\n",
    "\n",
    "    "
   ]
  },
  {
   "cell_type": "markdown",
   "id": "d0c2a372",
   "metadata": {},
   "source": [
    "Some of the popular languages that Data Scientists use are:\n",
    "<li> Python\n",
    "<li> R\n",
    "<li> SQL"
   ]
  },
  {
   "cell_type": "code",
   "execution_count": null,
   "id": "0ed4d26c",
   "metadata": {},
   "outputs": [],
   "source": []
  },
  {
   "cell_type": "markdown",
   "id": "c8f3c6ab",
   "metadata": {},
   "source": [
    "Some of the commonly used libraries used by Data Scientists include:\n",
    "* Numpy\n",
    "* Pandas\n",
    "* TenserFlow"
   ]
  },
  {
   "cell_type": "markdown",
   "id": "6a06507f",
   "metadata": {},
   "source": [
    "| Data Science Tools |\n",
    "| ----- |\n",
    "|Anaconda | \n",
    "|RStudio | \n",
    "|Jupyter notebooks |\n",
    "        \n",
    " \n"
   ]
  },
  {
   "cell_type": "markdown",
   "id": "9410ba23",
   "metadata": {},
   "source": [
    "### Below are a few examples of evaluating arithmetic expressions in Python\n",
    "\n",
    "<li> a*b\n",
    "<li> a/b"
   ]
  },
  {
   "cell_type": "code",
   "execution_count": 2,
   "id": "cdccc245",
   "metadata": {},
   "outputs": [
    {
     "data": {
      "text/plain": [
       "17"
      ]
     },
     "execution_count": 2,
     "metadata": {},
     "output_type": "execute_result"
    }
   ],
   "source": [
    "### This a simple arithmetic expression to mutiply then add integers \n",
    "(3*4)+5"
   ]
  },
  {
   "cell_type": "code",
   "execution_count": 10,
   "id": "ff03468d",
   "metadata": {},
   "outputs": [
    {
     "data": {
      "text/plain": [
       "3.3333333333333335"
      ]
     },
     "execution_count": 10,
     "metadata": {},
     "output_type": "execute_result"
    }
   ],
   "source": [
    "#This will convert 200 minutes to hours by diving by 60 \n",
    "(200/60)"
   ]
  },
  {
   "cell_type": "markdown",
   "id": "3893b43c",
   "metadata": {},
   "source": [
    "## Author \n",
    "Issa Jelani Pierre"
   ]
  },
  {
   "cell_type": "code",
   "execution_count": null,
   "id": "861ff60d",
   "metadata": {},
   "outputs": [],
   "source": []
  }
 ],
 "metadata": {
  "kernelspec": {
   "display_name": "Python 3 (ipykernel)",
   "language": "python",
   "name": "python3"
  },
  "language_info": {
   "codemirror_mode": {
    "name": "ipython",
    "version": 3
   },
   "file_extension": ".py",
   "mimetype": "text/x-python",
   "name": "python",
   "nbconvert_exporter": "python",
   "pygments_lexer": "ipython3",
   "version": "3.10.9"
  }
 },
 "nbformat": 4,
 "nbformat_minor": 5
}
